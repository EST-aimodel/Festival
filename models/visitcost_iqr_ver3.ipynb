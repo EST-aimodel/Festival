{
 "cells": [
  {
   "cell_type": "code",
   "execution_count": 1,
   "metadata": {},
   "outputs": [],
   "source": [
    "import pandas as pd\n",
    "from sklearn.model_selection import train_test_split\n",
    "import numpy as np\n",
    "data = pd.read_csv('../data/df_charac.csv')\n",
    "   \n",
    "data = data.dropna()\n",
    "\n",
    "def iqr(df, columns):\n",
    "    Q1 = df[columns].quantile(0.25)\n",
    "    Q3 = df[columns].quantile(0.75)\n",
    "    IQR = Q3 - Q1\n",
    "    \n",
    "    lower = Q1 - 1.5 * IQR\n",
    "    upper = Q3 + 1.5 * IQR\n",
    "    \n",
    "    df_clipped = df.copy()\n",
    "    \n",
    "    for column in columns:\n",
    "        df_clipped[column] = df[column].clip(lower=lower[column], upper=upper[column])\n",
    "        \n",
    "    return df_clipped\n",
    "\n",
    "data = iqr(data, ['visitors'])\n",
    "\n",
    "data = pd.get_dummies(data, columns=['target'], drop_first=False)\n",
    "\n",
    "X = data[['month', \n",
    "          'cost', \n",
    "          'target_family', \n",
    "          'target_old', \n",
    "          'target_youth',\n",
    "          'Fe_festival_conc',\n",
    "          'non_festival_conc',\n",
    "          'non_local',\n",
    "          'non_foreigner'\n",
    "          ]]\n",
    "Y = data['visitors']\n",
    "X_train, X_test, Y_train, Y_test = train_test_split(\n",
    "X, Y, test_size=0.2, random_state=42)\n"
   ]
  },
  {
   "cell_type": "code",
   "execution_count": 2,
   "metadata": {},
   "outputs": [],
   "source": [
    "from sklearn.metrics import mean_squared_error, r2_score\n",
    "\n",
    "def evaluate_models(best_visitors, X_test, Y_test):\n",
    "    # Visitors 모델 평가\n",
    "    y_pred = best_visitors.predict(X_test)\n",
    "    mse_visitors = mean_squared_error(Y_test, y_pred)\n",
    "    r2_visitors = r2_score(Y_test, y_pred)\n",
    "\n",
    "\n",
    "    # 결과 출력\n",
    "    print(f\"Visitors Model Performance:\")\n",
    "    print(f\"  MSE: {mse_visitors}\")\n",
    "    print(f\"  R²: {r2_visitors}\")\n"
   ]
  },
  {
   "cell_type": "markdown",
   "metadata": {},
   "source": [
    "RF"
   ]
  },
  {
   "cell_type": "code",
   "execution_count": null,
   "metadata": {},
   "outputs": [],
   "source": [
    "from sklearn.ensemble import RandomForestRegressor\n",
    "\n",
    "def train_models(X_train, Y_train):\n",
    "    rf_visitors = RandomForestRegressor(n_estimators=100, random_state=42, n_jobs=-1)\n",
    "    rf_visitors.fit(X_train, Y_train)\n",
    "\n",
    "    return rf_visitors\n",
    "rf_visitors = train_models(X_train, Y_train)\n",
    "\n",
    "evaluate_models(rf_visitors, X_test, Y_test)"
   ]
  },
  {
   "cell_type": "code",
   "execution_count": null,
   "metadata": {},
   "outputs": [],
   "source": [
    "from sklearn.model_selection import GridSearchCV\n",
    "\n",
    "def tune_rf(X_train, y_train_visitors, y_train_vicost):\n",
    "    param_grid_rf = {\n",
    "        'n_estimators': np.arange(50, 90, 20),\n",
    "        'max_depth': [3,15,17],\n",
    "        'min_samples_split':  [2, 7,8]}\n",
    "\n",
    "    rf_visitors = RandomForestRegressor(random_state=42, n_jobs=-1)\n",
    "    grid_search_rf_visitors = GridSearchCV(estimator=rf_visitors, param_grid=param_grid_rf, cv=5, scoring='neg_mean_squared_error')\n",
    "    grid_search_rf_visitors.fit(X_train, y_train_visitors)\n",
    "    \n",
    "    print(f\"Best visitors RF : {grid_search_rf_visitors.best_params_}\")\n",
    "\n",
    "    return grid_search_rf_visitors.best_estimator_\n",
    "\n",
    "best_rf_visitors = tune_rf(X_train, Y_train)\n"
   ]
  },
  {
   "cell_type": "code",
   "execution_count": null,
   "metadata": {},
   "outputs": [],
   "source": [
    "evaluate_models(best_rf_visitors, X_test, Y_test)"
   ]
  },
  {
   "cell_type": "markdown",
   "metadata": {},
   "source": [
    "xgb"
   ]
  },
  {
   "cell_type": "code",
   "execution_count": 3,
   "metadata": {},
   "outputs": [
    {
     "name": "stdout",
     "output_type": "stream",
     "text": [
      "Visitors Model Performance:\n",
      "  MSE: 7799992862.926983\n",
      "  R²: 0.16956532833284454\n"
     ]
    }
   ],
   "source": [
    "import xgboost as xgb\n",
    "\n",
    "def train_xgboost(X_train, Y_train):\n",
    "    \n",
    "    xgb_visitors = xgb.XGBRegressor(n_estimators=100, random_state=42)\n",
    "    xgb_visitors.fit(X_train, Y_train)\n",
    "\n",
    "    xgb_vicost = xgb.XGBRegressor(n_estimators=100, random_state=42)\n",
    "    xgb_vicost.fit(X_train, Y_train)\n",
    "    \n",
    "    return xgb_visitors\n",
    "\n",
    "xgb_visitors = train_xgboost(X_train, Y_train)\n",
    "\n",
    "evaluate_models(xgb_visitors, X_test, Y_test)"
   ]
  },
  {
   "cell_type": "code",
   "execution_count": 5,
   "metadata": {},
   "outputs": [
    {
     "name": "stdout",
     "output_type": "stream",
     "text": [
      "Best xgb visitors: {'colsample_bytree': 0.7999999999999999, 'learning_rate': 0.03, 'max_depth': 11, 'n_estimators': 100, 'subsample': 0.7}\n"
     ]
    }
   ],
   "source": [
    "from sklearn.model_selection import GridSearchCV\n",
    "def tune_xgb(X_train, Y_train):\n",
    "    param_grid_xgb = {\n",
    "        'n_estimators': np.arange(90,110,10),\n",
    "        'max_depth': [10, 11, 12],\n",
    "        'learning_rate': np.arange(0.02,0.04,0.01),\n",
    "        'subsample': [0.65,0.7,0.75],\n",
    "        'colsample_bytree': np.arange(0.6, 0.8, 0.1)}\n",
    "\n",
    "    xgb_visitors = xgb.XGBRegressor(random_state=42, n_jobs=-1)\n",
    "    grid_search_xgb_visitors = GridSearchCV(estimator=xgb_visitors, param_grid=param_grid_xgb, cv=5, scoring='neg_mean_squared_error')\n",
    "    grid_search_xgb_visitors.fit(X_train, Y_train)\n",
    "    \n",
    "    print(f\"Best xgb visitors: {grid_search_xgb_visitors.best_params_}\")\n",
    "\n",
    "    return grid_search_xgb_visitors.best_estimator_\n",
    "\n",
    "best_xgb_visitors = tune_xgb(X_train, Y_train)"
   ]
  },
  {
   "cell_type": "code",
   "execution_count": 6,
   "metadata": {},
   "outputs": [
    {
     "name": "stdout",
     "output_type": "stream",
     "text": [
      "Visitors Model Performance:\n",
      "  MSE: 5590753632.578279\n",
      "  R²: 0.40477437110117\n"
     ]
    }
   ],
   "source": [
    "evaluate_models(best_xgb_visitors, X_test, Y_test)"
   ]
  },
  {
   "cell_type": "markdown",
   "metadata": {},
   "source": [
    "GBR"
   ]
  },
  {
   "cell_type": "code",
   "execution_count": 8,
   "metadata": {},
   "outputs": [
    {
     "name": "stdout",
     "output_type": "stream",
     "text": [
      "Visitors Model Performance:\n",
      "  MSE: 6430057859.69753\n",
      "  R²: 0.3154169393028179\n"
     ]
    }
   ],
   "source": [
    "from sklearn.ensemble import GradientBoostingRegressor\n",
    "\n",
    "def train_gradient_boosting(X_train, Y_train):\n",
    "    gb_visitors = GradientBoostingRegressor(n_estimators=100, random_state=42)\n",
    "    gb_visitors.fit(X_train, Y_train)\n",
    "\n",
    "    return gb_visitors\n",
    "\n",
    "gb_visitors = train_gradient_boosting(X_train, Y_train)\n",
    "\n",
    "evaluate_models(gb_visitors, X_test, Y_test)\n"
   ]
  },
  {
   "cell_type": "code",
   "execution_count": 15,
   "metadata": {},
   "outputs": [
    {
     "name": "stdout",
     "output_type": "stream",
     "text": [
      "Best gb visitors: {'learning_rate': 0.02, 'max_depth': 5, 'n_estimators': 170, 'subsample': 0.6}\n"
     ]
    }
   ],
   "source": [
    "from sklearn.model_selection import GridSearchCV\n",
    "def tune_gb(X_train, Y_train):\n",
    "    param_grid_gb = {\n",
    "        'n_estimators': [150,170,190],\n",
    "        'max_depth': [4, 5, 6],\n",
    "        'learning_rate': [0.015, 0.02, 0.025],\n",
    "        'subsample': [0.6]}\n",
    "    \n",
    "    gb_visitors = GradientBoostingRegressor(random_state=42)\n",
    "    grid_search_gb_visitors = GridSearchCV(estimator=gb_visitors, param_grid=param_grid_gb, cv=5, scoring='neg_mean_squared_error')\n",
    "    grid_search_gb_visitors.fit(X_train, Y_train)\n",
    "\n",
    "    print(f\"Best gb visitors: {grid_search_gb_visitors.best_params_}\")\n",
    "\n",
    "    return grid_search_gb_visitors.best_estimator_\n",
    "\n",
    "best_gb_visitors = tune_gb(X_train, Y_train)\n"
   ]
  },
  {
   "cell_type": "code",
   "execution_count": 14,
   "metadata": {},
   "outputs": [
    {
     "name": "stdout",
     "output_type": "stream",
     "text": [
      "Visitors Model Performance:\n",
      "  MSE: 5619698291.542319\n",
      "  R²: 0.40169274669641364\n"
     ]
    }
   ],
   "source": [
    "evaluate_models(best_gb_visitors, X_test, Y_test)"
   ]
  },
  {
   "cell_type": "markdown",
   "metadata": {},
   "source": [
    "RANSAC"
   ]
  },
  {
   "cell_type": "code",
   "execution_count": null,
   "metadata": {},
   "outputs": [],
   "source": [
    "from sklearn.linear_model import RANSACRegressor\n",
    "\n",
    "def train_ransac(X_train, Y_train):\n",
    "    ransac_visitors = RANSACRegressor(random_state=42)\n",
    "    ransac_visitors.fit(X_train, y_train_visitors)\n",
    "    \n",
    "    return ransac_visitors\n",
    "\n",
    "ransac_visitors = train_ransac(X_train, Y_train)\n",
    "\n",
    "evaluate_models(ransac_visitors, X_test, Y_test)\n",
    "    \n"
   ]
  },
  {
   "cell_type": "code",
   "execution_count": null,
   "metadata": {},
   "outputs": [],
   "source": [
    "def tune_rs(X_train, Y_train):\n",
    "    param_grid_ransac = {\n",
    "        'min_samples': [0.5, 0.7, 0.9],\n",
    "        'residual_threshold': [5, 10, 20],\n",
    "        'max_trials': [50, 100, 150],\n",
    "    }\n",
    "    ransac_visitors = RANSACRegressor(random_state=42, n_jobs=-1)\n",
    "    grid_search_ransac_visitors = GridSearchCV(estimator=ransac_visitors, param_grid=param_grid_ransac, cv=5, scoring='neg_mean_squared_error')\n",
    "    grid_search_ransac_visitors.fit(X_train, Y_train)\n",
    "\n",
    "    print(f\"Best rs visitors: {grid_search_ransac_visitors.best_params_}\")\n",
    "\n",
    "    return grid_search_ransac_visitors.best_estimator_\n",
    "\n",
    "best_rs_visitors = tune_rs(X_train, Y_train)"
   ]
  },
  {
   "cell_type": "code",
   "execution_count": null,
   "metadata": {},
   "outputs": [],
   "source": [
    "evaluate_models(best_rs_visitors, X_test, Y_test)"
   ]
  }
 ],
 "metadata": {
  "kernelspec": {
   "display_name": "base",
   "language": "python",
   "name": "python3"
  },
  "language_info": {
   "codemirror_mode": {
    "name": "ipython",
    "version": 3
   },
   "file_extension": ".py",
   "mimetype": "text/x-python",
   "name": "python",
   "nbconvert_exporter": "python",
   "pygments_lexer": "ipython3",
   "version": "3.12.7"
  }
 },
 "nbformat": 4,
 "nbformat_minor": 2
}
