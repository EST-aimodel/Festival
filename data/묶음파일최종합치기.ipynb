{
 "cells": [
  {
   "cell_type": "code",
   "execution_count": 22,
   "metadata": {},
   "outputs": [],
   "source": [
    "import pandas as pd\n",
    "\n",
    "df1 = pd.read_csv('연도별방문자추이.csv', encoding = 'euc-kr')\n",
    "df2 = pd.read_csv('목적어정보처리.csv', encoding = 'euc-kr')\n",
    "df3 = pd.read_csv('회계정보전처리.csv')\n",
    "\n",
    "\n",
    "df = pd.merge(df1, df2, on='축제명', how='left')\n",
    "df = df.drop_duplicates()\n",
    "\n",
    "df.to_csv('./전국연도별방문자추이.csv', index=False, encoding='euc-kr')\n"
   ]
  },
  {
   "cell_type": "code",
   "execution_count": null,
   "metadata": {},
   "outputs": [],
   "source": []
  }
 ],
 "metadata": {
  "kernelspec": {
   "display_name": "base",
   "language": "python",
   "name": "python3"
  },
  "language_info": {
   "codemirror_mode": {
    "name": "ipython",
    "version": 3
   },
   "file_extension": ".py",
   "mimetype": "text/x-python",
   "name": "python",
   "nbconvert_exporter": "python",
   "pygments_lexer": "ipython3",
   "version": "3.12.7"
  }
 },
 "nbformat": 4,
 "nbformat_minor": 2
}
